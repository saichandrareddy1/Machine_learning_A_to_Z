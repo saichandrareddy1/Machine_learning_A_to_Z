{
  "nbformat": 4,
  "nbformat_minor": 0,
  "metadata": {
    "colab": {
      "name": "cluster.ipynb",
      "provenance": [],
      "collapsed_sections": []
    },
    "kernelspec": {
      "name": "python3",
      "display_name": "Python 3"
    },
    "accelerator": "GPU"
  },
  "cells": [
    {
      "cell_type": "code",
      "metadata": {
        "id": "qPt-bO2b2BLf",
        "colab_type": "code",
        "colab": {}
      },
      "source": [
        "import numpy as np\n",
        "import pandas as pd\n",
        "from sklearn.cluster import AgglomerativeClustering\n",
        "from sklearn.preprocessing import StandardScaler"
      ],
      "execution_count": 0,
      "outputs": []
    },
    {
      "cell_type": "code",
      "metadata": {
        "id": "MV9IQGCp31j2",
        "colab_type": "code",
        "colab": {}
      },
      "source": [
        "data = pd.read_csv(\"/content/CC GENERAL.csv\")"
      ],
      "execution_count": 0,
      "outputs": []
    },
    {
      "cell_type": "code",
      "metadata": {
        "id": "ovfuXfq131mr",
        "colab_type": "code",
        "colab": {}
      },
      "source": [
        "data = data.set_index('CUST_ID')"
      ],
      "execution_count": 0,
      "outputs": []
    },
    {
      "cell_type": "code",
      "metadata": {
        "id": "LsLAyTua_bQE",
        "colab_type": "code",
        "colab": {}
      },
      "source": [
        "#data.isna().sum()"
      ],
      "execution_count": 0,
      "outputs": []
    },
    {
      "cell_type": "code",
      "metadata": {
        "id": "cvMT7zD2_jvY",
        "colab_type": "code",
        "colab": {}
      },
      "source": [
        "data.drop(['CREDIT_LIMIT', 'MINIMUM_PAYMENTS'], axis=1, inplace=True)"
      ],
      "execution_count": 0,
      "outputs": []
    },
    {
      "cell_type": "code",
      "metadata": {
        "id": "3HF79FcU31rX",
        "colab_type": "code",
        "colab": {}
      },
      "source": [
        "x = data.iloc[:, :4].values"
      ],
      "execution_count": 0,
      "outputs": []
    },
    {
      "cell_type": "code",
      "metadata": {
        "id": "0Qh3mL1s31ud",
        "colab_type": "code",
        "colab": {
          "base_uri": "https://localhost:8080/",
          "height": 34
        },
        "outputId": "7355d541-e31e-4c46-fc04-9eb9dfde8f85"
      },
      "source": [
        "x.shape"
      ],
      "execution_count": 7,
      "outputs": [
        {
          "output_type": "execute_result",
          "data": {
            "text/plain": [
              "(8950, 4)"
            ]
          },
          "metadata": {
            "tags": []
          },
          "execution_count": 7
        }
      ]
    },
    {
      "cell_type": "code",
      "metadata": {
        "id": "X1NIeIXh31qD",
        "colab_type": "code",
        "colab": {}
      },
      "source": [
        "S = StandardScaler()\n",
        "x = S.fit_transform(x)"
      ],
      "execution_count": 0,
      "outputs": []
    },
    {
      "cell_type": "code",
      "metadata": {
        "id": "_C5uIfqEA0-_",
        "colab_type": "code",
        "colab": {
          "base_uri": "https://localhost:8080/",
          "height": 34
        },
        "outputId": "09c1fe7e-31dc-416f-ae56-b1ca62b9a812"
      },
      "source": [
        "x.shape"
      ],
      "execution_count": 9,
      "outputs": [
        {
          "output_type": "execute_result",
          "data": {
            "text/plain": [
              "(8950, 4)"
            ]
          },
          "metadata": {
            "tags": []
          },
          "execution_count": 9
        }
      ]
    },
    {
      "cell_type": "code",
      "metadata": {
        "id": "YaAiZLfw31iC",
        "colab_type": "code",
        "colab": {}
      },
      "source": [
        "algo = AgglomerativeClustering(n_clusters=3)"
      ],
      "execution_count": 0,
      "outputs": []
    },
    {
      "cell_type": "code",
      "metadata": {
        "id": "Fax_bw2p_9IE",
        "colab_type": "code",
        "colab": {}
      },
      "source": [
        "pre = algo.fit_predict(x)"
      ],
      "execution_count": 0,
      "outputs": []
    },
    {
      "cell_type": "code",
      "metadata": {
        "id": "rsSvzup8Aws-",
        "colab_type": "code",
        "colab": {
          "base_uri": "https://localhost:8080/",
          "height": 34
        },
        "outputId": "bede92fd-395b-4d21-c892-01cd6c9ef319"
      },
      "source": [
        "pre.shape"
      ],
      "execution_count": 12,
      "outputs": [
        {
          "output_type": "execute_result",
          "data": {
            "text/plain": [
              "(8950,)"
            ]
          },
          "metadata": {
            "tags": []
          },
          "execution_count": 12
        }
      ]
    },
    {
      "cell_type": "code",
      "metadata": {
        "id": "SQk3Szry_9E5",
        "colab_type": "code",
        "colab": {}
      },
      "source": [
        "import matplotlib.pyplot as plt"
      ],
      "execution_count": 0,
      "outputs": []
    },
    {
      "cell_type": "code",
      "metadata": {
        "id": "9Of47YMlApwL",
        "colab_type": "code",
        "colab": {
          "base_uri": "https://localhost:8080/",
          "height": 265
        },
        "outputId": "742c08b7-c1d8-4a54-f288-4e0d12813742"
      },
      "source": [
        "import matplotlib.pyplot as plt\n",
        "# old style\n",
        "y = pre\n",
        "fig = plt.figure()\n",
        "ax1 = fig.add_subplot(221)\n",
        "ax1.scatter(x[:, 0], x[:, 1], c=y)\n",
        "ax2 = fig.add_subplot(222, sharex=ax1, sharey=ax1)\n",
        "ax2.scatter(x[:, 1], x[:, 2], c=y)\n",
        "ax3 = fig.add_subplot(223, sharex=ax1, sharey=ax1)\n",
        "ax3.scatter(x[:, 2], x[:, 3], c=y)\n",
        "ax4 = fig.add_subplot(224, sharex=ax1, sharey=ax1)\n",
        "ax4.scatter(x[:, 3], x[:, 1], c=y)\n",
        "plt.show()"
      ],
      "execution_count": 14,
      "outputs": [
        {
          "output_type": "display_data",
          "data": {
            "image/png": "[encoded data removed]",
            "text/plain": [
              "<Figure size 432x288 with 4 Axes>"
            ]
          },
          "metadata": {
            "tags": []
          }
        }
      ]
    }
  ]
}